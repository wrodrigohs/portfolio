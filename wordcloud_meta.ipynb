{
  "nbformat": 4,
  "nbformat_minor": 0,
  "metadata": {
    "colab": {
      "name": "wordcloud.ipynb",
      "provenance": [],
      "collapsed_sections": [],
      "include_colab_link": true
    },
    "kernelspec": {
      "name": "python3",
      "display_name": "Python 3"
    }
  },
  "cells": [
    {
      "cell_type": "markdown",
      "metadata": {
        "id": "view-in-github",
        "colab_type": "text"
      },
      "source": [
        "<a href=\"https://colab.research.google.com/github/wrodrigohs/portfolio/blob/main/wordcloud_meta.ipynb\" target=\"_parent\"><img src=\"https://colab.research.google.com/assets/colab-badge.svg\" alt=\"Open In Colab\"/></a>"
      ]
    },
    {
      "cell_type": "markdown",
      "source": [
        "#**Contextualização**\n",
        "Há cerca de 1 mês, o Gary Vee (empreendedor americano, quatro vezes escolhido melhor autor de best-sellers reconhecidos pelo New York Times, palestrante e guru do marketing) [entrevistou](https://www.youtube.com/watch?v=iwyyxEJCIuU) Mark Zuckerberg (um dos fundadores do Facebook e CEO da Meta) para falar sobre o Metaverso. Foi uma entrevista bem interessante, então resolvi fazer uma nuvem de palavras para mostrar o que foi mais falado."
      ],
      "metadata": {
        "id": "MqgmIS1fzpwE"
      }
    },
    {
      "cell_type": "markdown",
      "source": [
        "O Google Colab não tem a biblioteca wordcloud instalada, por isso é necessário instalá-la."
      ],
      "metadata": {
        "id": "8hhMHBviEvoD"
      }
    },
    {
      "cell_type": "code",
      "metadata": {
        "id": "j1Eq9oza6vgb"
      },
      "source": [
        "# instalação da wordcloud\n",
        "!pip install wordcloud -q"
      ],
      "execution_count": null,
      "outputs": []
    },
    {
      "cell_type": "code",
      "metadata": {
        "id": "MPxaDUJqtkEc"
      },
      "source": [
        "# importação dos pacotes necessários\n",
        "import pandas as pd\n",
        "import numpy as np\n",
        "from PIL import Image\n",
        "import matplotlib.pyplot as plt\n",
        "from google.colab import drive\n",
        "from wordcloud import WordCloud, STOPWORDS, ImageColorGenerator"
      ],
      "execution_count": null,
      "outputs": []
    },
    {
      "cell_type": "code",
      "source": [
        "# montagem do drive\n",
        "drive.mount('/content/gdrive')"
      ],
      "metadata": {
        "id": "wEsqoWEs7GXw"
      },
      "execution_count": null,
      "outputs": []
    },
    {
      "cell_type": "markdown",
      "source": [
        "Para poder gerar a nuvem de palavras é necessário ter o texto da entrevista. \n",
        "\n",
        "Para isso eu criei um script Python para fazer essa transcrição e economizar tempo e agilizar o trabalho.\n",
        "\n",
        "O arquivo .txt com a transcrição está disponibilizado [aqui](https://drive.google.com/file/d/1kgGgKaXcAt3_l1LvLN-gg3cP8SWFc_Qy/view?usp=sharing) caso você deseje baixá-lo para reproduzir esse código."
      ],
      "metadata": {
        "id": "8i_ceSU_yVhX"
      }
    },
    {
      "cell_type": "code",
      "source": [
        "# para leitura do arquivo .txt\n",
        "texto = open('/content/gdrive/My Drive/transcricao_en.txt', 'r').read()\n",
        "#print(string)"
      ],
      "metadata": {
        "id": "FjM1gQl57g8h"
      },
      "execution_count": null,
      "outputs": []
    },
    {
      "cell_type": "markdown",
      "source": [
        "Nesta célula é gerada a nuvem de palavras. Para que a nuvem ficasse mais bonita eu decidi gerá-la dentro da logo da Meta (a imagem pode ser baixada [aqui](https://drive.google.com/file/d/16al4y5YRDBHRYzZg-UHIMHcO3Eg1X5GK/view?usp=sharing)).\n",
        "\n",
        "Stopwords são as palavras excluídas da nuvem e já há 190 pré-definidas, mas, para meu contexto, eu defini algumas outras que também serão retiradas da nuvem. \n",
        "\n",
        "Logo abaixo eu apenas defini alguns parâmetros, gerei a nuvem e criei uma imagem .png no Google Drive."
      ],
      "metadata": {
        "id": "F3MB_1ad4h-W"
      }
    },
    {
      "cell_type": "code",
      "metadata": {
        "id": "78yFSQGT_OF7"
      },
      "source": [
        "background_img = np.array(Image.open(\"/content/gdrive/My Drive/meta.jpg\"))\n",
        "\n",
        "# lista de stopwords\n",
        "stopwords = set(STOPWORDS)\n",
        "stopwords.update([\"um\", \"youre\", \"weve\", \"uh\", \"theyre\", \"im\", \"whats\", \"ive\", \n",
        "                  \"see\", \"theres\", \"oh\", \"see\", \"will\", \"think\", \"thats\", \n",
        "                  \"lot\", \"thing\", \"yeah\", \"kind\", \"really\", \"gonna\", \"go\",\n",
        "                  \"going\", \"right\"])\n",
        "\n",
        "# geração da wordcloud\n",
        "wordcloud = WordCloud(stopwords=stopwords,\n",
        "                      background_color=\"black\",\n",
        "                      width=1024, height=800, max_words=2000,\n",
        "                      mask=background_img, max_font_size=200,\n",
        "                      min_font_size=1).generate(texto)\n",
        "\n",
        "# mostrar a imagem final\n",
        "fig, ax = plt.subplots(figsize=(16,8))\n",
        "ax.imshow(wordcloud, interpolation='bilinear')\n",
        "ax.set_axis_off()\n",
        "\n",
        "plt.imshow(wordcloud)\n",
        "wordcloud.to_file(\"entrevista_mark_en.png\")"
      ],
      "execution_count": null,
      "outputs": []
    },
    {
      "cell_type": "markdown",
      "source": [
        "#**Conclusão**\n",
        "A nuvem de palavras é uma forma muito interessante para fazer análises textuais. \n",
        "\n",
        "Sobre a entrevista é possível notar que alguns temas como experiência, jogo, holograma, virtual, social, digital, conexão, pessoas, virtual e, obviamente, metaverso foram abordados durante o programa."
      ],
      "metadata": {
        "id": "-okDzvIr57ST"
      }
    }
  ]
}